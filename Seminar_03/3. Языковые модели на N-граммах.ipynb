{
 "cells": [
  {
   "cell_type": "markdown",
   "metadata": {
    "collapsed": false,
    "deletable": true,
    "editable": true
   },
   "source": [
    "### Семинар 3. N-gram language models"
   ]
  },
  {
   "cell_type": "markdown",
   "metadata": {},
   "source": [
    "Обучать языковую модель будем на открытом корпусе русского языка.<br/>\n",
    "Работать с ним удобно с помощью модуля opencorpora-tools, который предоставляет NLTK-подобный интерфейс к нему."
   ]
  },
  {
   "cell_type": "code",
   "execution_count": 8,
   "metadata": {
    "collapsed": false
   },
   "outputs": [
    {
     "name": "stdout",
     "output_type": "stream",
     "text": [
      "Collecting opencorpora-tools\n",
      "  Downloading opencorpora_tools-0.5-py3-none-any.whl\n",
      "Collecting lxml (from opencorpora-tools)\n",
      "  Downloading lxml-3.7.3.tar.gz (3.8MB)\n",
      "\u001b[K    100% |████████████████████████████████| 3.8MB 293kB/s ta 0:00:011\n",
      "\u001b[?25hInstalling collected packages: lxml, opencorpora-tools\n",
      "  Running setup.py install for lxml ... \u001b[?25l-\b \b\\\b \b|\b \b/\b \b-\b \b\\\b \b|\b \bdone\n",
      "\u001b[?25hSuccessfully installed lxml-3.7.3 opencorpora-tools-0.5\n"
     ]
    }
   ],
   "source": [
    "# Установим opencorpora-tools\n",
    "# Если у вас anaconda, лучше используйте команду conda вместо pip.\n",
    "!pip install opencorpora-tools"
   ]
  },
  {
   "cell_type": "code",
   "execution_count": 14,
   "metadata": {
    "collapsed": false
   },
   "outputs": [
    {
     "name": "stdout",
     "output_type": "stream",
     "text": [
      "Creating annot.opcorpora.xml from http://opencorpora.org/files/export/annot/annot.opcorpora.xml.bz2\n",
      "...............................................................................................................................\n",
      "Done.\n"
     ]
    }
   ],
   "source": [
    "# Скачаем корпус\n",
    "!opencorpora download"
   ]
  },
  {
   "cell_type": "code",
   "execution_count": 15,
   "metadata": {
    "collapsed": false
   },
   "outputs": [
    {
     "name": "stdout",
     "output_type": "stream",
     "text": [
      "3. Языковые модели на N-граммах.ipynb\r\n",
      "Language Modeling.ipynb\r\n",
      "annot.opcorpora.xml\r\n"
     ]
    }
   ],
   "source": [
    "!ls # Файл с корпусом должен был появиться в текущей папке"
   ]
  },
  {
   "cell_type": "code",
   "execution_count": 16,
   "metadata": {
    "collapsed": false
   },
   "outputs": [],
   "source": [
    "import opencorpora\n",
    "corpus = opencorpora.CorpusReader('annot.opcorpora.xml')\n",
    "docs = corpus.catalog()"
   ]
  },
  {
   "cell_type": "code",
   "execution_count": 17,
   "metadata": {
    "collapsed": false
   },
   "outputs": [
    {
     "data": {
      "text/plain": [
       "[('1', '\"Частный корреспондент\"'),\n",
       " ('2', '00021 Школа злословия'),\n",
       " ('3', '00022 Последнее восстание в Сеуле'),\n",
       " ('4', '00023 За кота - ответишь!'),\n",
       " ('5', '00024 Быстротечный кинороман'),\n",
       " ('6', '00014 Холодная ванна возвращает силы'),\n",
       " ('7', '00031 Рецессия в Латвии и Эстонии'),\n",
       " ('8', 'Википедия'),\n",
       " ('9', '06037 100 дней Обамы: iТоги'),\n",
       " ('10', '01961 100 миллиардов может и не хватить')]"
      ]
     },
     "execution_count": 17,
     "metadata": {},
     "output_type": "execute_result"
    }
   ],
   "source": [
    "docs[:10]"
   ]
  },
  {
   "cell_type": "code",
   "execution_count": 27,
   "metadata": {
    "collapsed": false
   },
   "outputs": [
    {
     "name": "stdout",
     "output_type": "stream",
     "text": [
      "['«', 'Школа', 'злословия', '»', 'учит', 'прикусить', 'язык']\n",
      "['Сохранится', 'ли', 'градус', 'дискуссии', 'в', 'новом', 'сезоне', '?']\n",
      "['Великолепная', '«', 'Школа', 'злословия', '»', 'вернулась', 'в', 'эфир', 'после', 'летних', 'каникул', 'в', 'новом', 'формате', '.']\n",
      "['В', 'истории', 'программы', 'это', 'уже', 'не', 'первый', '«', 'ребрендинг', '»', '.']\n",
      "['Сейчас', 'с', 'трудом', 'можно', 'припомнить', ',', 'что', 'начиналась', '«', 'Школа', '…', '»', 'на', 'канале', '«', 'Культура', '»', 'как', 'стандартное', 'ток-шоу', ',', 'которое', 'отличалось', 'от', 'других', '«', 'кухонными', '»', 'обсуждениями', 'гостя', ',', 'что', 'называется', '–', '«', 'за', 'глаза', '»', ',', 'и', 'неожиданными', 'персонами', 'в', 'качестве', 'ведущих', '.']\n"
     ]
    }
   ],
   "source": [
    "# Выведем несколько предложений из корпуса.\n",
    "for id, name in docs[:2]:\n",
    "    # Можно использовать corpus.tagged_sents(id), чтобы отсеять пунктуаторы.\n",
    "    sents = corpus.sents(id)\n",
    "    for words in sents[:5]:\n",
    "        print(words)"
   ]
  },
  {
   "cell_type": "code",
   "execution_count": null,
   "metadata": {
    "collapsed": true
   },
   "outputs": [],
   "source": []
  },
  {
   "cell_type": "markdown",
   "metadata": {},
   "source": [
    "Напишите функцию train_model(docs, n), которая возвращает обученную n-граммную модель"
   ]
  },
  {
   "cell_type": "markdown",
   "metadata": {},
   "source": [
    "Модель предлагается сделать в виде отображения: <br/>\n",
    "(n-1)-грамма => {следующее слово => вероятность всей n-грамы}<br/>\n",
    "или<br/>\n",
    "(n-1)-грамма => {следующее слово => количество соответствующих n-грамм в корпусе}"
   ]
  },
  {
   "cell_type": "markdown",
   "metadata": {},
   "source": [
    "Введите специальное слово, обозначающее конец предложения.<br/>Добавляйте его в n-граммы, которые находятся в конце предложения"
   ]
  },
  {
   "cell_type": "code",
   "execution_count": 38,
   "metadata": {
    "collapsed": true
   },
   "outputs": [],
   "source": [
    "END_OF_SENTENCE = \"<END>\""
   ]
  },
  {
   "cell_type": "code",
   "execution_count": 39,
   "metadata": {
    "collapsed": true
   },
   "outputs": [],
   "source": [
    "from collections import defaultdict\n",
    "\n",
    "def train_model(docs, n):\n",
    "    # model = {(word_1, ..., word_n-1): {word_n: 0,2, word_n: 0,1}}\n",
    "    model = defaultdict(lambda: defaultdict(int))\n",
    "    \n",
    "    for id, name in docs:\n",
    "        sents = corpus.sents(id)\n",
    "        # ..."
   ]
  },
  {
   "cell_type": "markdown",
   "metadata": {},
   "source": [
    "Напишите функцию get_sentence_probability(model, tokens), которая будет возвращать вероятность предложения в n-граммной модели"
   ]
  },
  {
   "cell_type": "code",
   "execution_count": null,
   "metadata": {
    "collapsed": true
   },
   "outputs": [],
   "source": [
    "def get_sentence_probability(model, tokens):\n",
    "    "
   ]
  },
  {
   "cell_type": "markdown",
   "metadata": {},
   "source": [
    "Напишите функцию generate_sentence(model, max_sentence_length), которая будет генерировать случайные предложения из распределения, описываемого моделью model."
   ]
  },
  {
   "cell_type": "code",
   "execution_count": null,
   "metadata": {
    "collapsed": true
   },
   "outputs": [],
   "source": [
    "def generate_sentence(model, max_sentence_length):\n",
    "    "
   ]
  },
  {
   "cell_type": "markdown",
   "metadata": {},
   "source": [
    "Посмотрите, какие предложения генерирует unigram-модель, bigram-модель, trigram-модель"
   ]
  },
  {
   "cell_type": "code",
   "execution_count": null,
   "metadata": {
    "collapsed": true
   },
   "outputs": [],
   "source": []
  },
  {
   "cell_type": "markdown",
   "metadata": {},
   "source": [
    "Напишите функцию suggest, которая будет предсказывать следующее слово для слов tokens"
   ]
  },
  {
   "cell_type": "code",
   "execution_count": null,
   "metadata": {
    "collapsed": true
   },
   "outputs": [],
   "source": [
    "def suggest(model, tokens):\n",
    "    "
   ]
  },
  {
   "cell_type": "markdown",
   "metadata": {},
   "source": [
    "Перепишите функцию train_model так, чтобы она использовала сглаживание вероятностей n-грамм"
   ]
  },
  {
   "cell_type": "code",
   "execution_count": null,
   "metadata": {
    "collapsed": true
   },
   "outputs": [],
   "source": []
  }
 ],
 "metadata": {
  "kernelspec": {
   "display_name": "Python 3",
   "language": "python",
   "name": "python3"
  },
  "language_info": {
   "codemirror_mode": {
    "name": "ipython",
    "version": 3
   },
   "file_extension": ".py",
   "mimetype": "text/x-python",
   "name": "python",
   "nbconvert_exporter": "python",
   "pygments_lexer": "ipython3",
   "version": "3.6.0"
  }
 },
 "nbformat": 4,
 "nbformat_minor": 2
}
